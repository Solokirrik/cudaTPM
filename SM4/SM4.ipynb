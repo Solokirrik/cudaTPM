{
 "cells": [
  {
   "cell_type": "markdown",
   "metadata": {
    "deletable": true,
    "editable": true
   },
   "source": [
    "# Decision tree и Random forest"
   ]
  },
  {
   "cell_type": "markdown",
   "metadata": {
    "deletable": true,
    "editable": true
   },
   "source": [
    "Реализовать 2 класса DecisionTreeClassifier и RandomForestClassifier"
   ]
  },
  {
   "cell_type": "code",
   "execution_count": 1,
   "metadata": {
    "collapsed": true,
    "deletable": true,
    "editable": true
   },
   "outputs": [],
   "source": [
    "class DecisionTreeClassifier():\n",
    "    def __init__(self):\n",
    "        pass\n",
    "    def fit(self):\n",
    "        pass\n",
    "    def predict(self):\n",
    "        pass\n",
    "    def fit_predict(self):\n",
    "        pass"
   ]
  },
  {
   "cell_type": "code",
   "execution_count": 2,
   "metadata": {
    "collapsed": false,
    "deletable": true,
    "editable": true
   },
   "outputs": [],
   "source": [
    "class RandomForestClassifier():\n",
    "    def __init__(self):\n",
    "        pass\n",
    "    def fit(self):\n",
    "        pass\n",
    "    def predict(self):\n",
    "        pass\n",
    "    def fit_predict(self):\n",
    "        pass"
   ]
  },
  {
   "cell_type": "code",
   "execution_count": 52,
   "metadata": {
    "collapsed": false,
    "deletable": true,
    "editable": true
   },
   "outputs": [
    {
     "data": {
      "text/html": [
       "<div>\n",
       "<table border=\"1\" class=\"dataframe\">\n",
       "  <thead>\n",
       "    <tr style=\"text-align: right;\">\n",
       "      <th></th>\n",
       "      <th>SeriousDlqin2yrs</th>\n",
       "      <th>RevolvingUtilizationOfUnsecuredLines</th>\n",
       "      <th>age</th>\n",
       "      <th>NumberOfTime30-59DaysPastDueNotWorse</th>\n",
       "      <th>DebtRatio</th>\n",
       "      <th>MonthlyIncome</th>\n",
       "      <th>NumberOfOpenCreditLinesAndLoans</th>\n",
       "      <th>NumberOfTimes90DaysLate</th>\n",
       "      <th>NumberRealEstateLoansOrLines</th>\n",
       "      <th>NumberOfTime60-89DaysPastDueNotWorse</th>\n",
       "      <th>NumberOfDependents</th>\n",
       "    </tr>\n",
       "  </thead>\n",
       "  <tbody>\n",
       "    <tr>\n",
       "      <th>1</th>\n",
       "      <td>1</td>\n",
       "      <td>0.766127</td>\n",
       "      <td>45</td>\n",
       "      <td>2</td>\n",
       "      <td>0.802982</td>\n",
       "      <td>9120.0</td>\n",
       "      <td>13</td>\n",
       "      <td>0</td>\n",
       "      <td>6</td>\n",
       "      <td>0</td>\n",
       "      <td>2.0</td>\n",
       "    </tr>\n",
       "    <tr>\n",
       "      <th>2</th>\n",
       "      <td>0</td>\n",
       "      <td>0.957151</td>\n",
       "      <td>40</td>\n",
       "      <td>0</td>\n",
       "      <td>0.121876</td>\n",
       "      <td>2600.0</td>\n",
       "      <td>4</td>\n",
       "      <td>0</td>\n",
       "      <td>0</td>\n",
       "      <td>0</td>\n",
       "      <td>1.0</td>\n",
       "    </tr>\n",
       "    <tr>\n",
       "      <th>3</th>\n",
       "      <td>0</td>\n",
       "      <td>0.658180</td>\n",
       "      <td>38</td>\n",
       "      <td>1</td>\n",
       "      <td>0.085113</td>\n",
       "      <td>3042.0</td>\n",
       "      <td>2</td>\n",
       "      <td>1</td>\n",
       "      <td>0</td>\n",
       "      <td>0</td>\n",
       "      <td>0.0</td>\n",
       "    </tr>\n",
       "    <tr>\n",
       "      <th>4</th>\n",
       "      <td>0</td>\n",
       "      <td>0.233810</td>\n",
       "      <td>30</td>\n",
       "      <td>0</td>\n",
       "      <td>0.036050</td>\n",
       "      <td>3300.0</td>\n",
       "      <td>5</td>\n",
       "      <td>0</td>\n",
       "      <td>0</td>\n",
       "      <td>0</td>\n",
       "      <td>0.0</td>\n",
       "    </tr>\n",
       "    <tr>\n",
       "      <th>5</th>\n",
       "      <td>0</td>\n",
       "      <td>0.907239</td>\n",
       "      <td>49</td>\n",
       "      <td>1</td>\n",
       "      <td>0.024926</td>\n",
       "      <td>63588.0</td>\n",
       "      <td>7</td>\n",
       "      <td>0</td>\n",
       "      <td>1</td>\n",
       "      <td>0</td>\n",
       "      <td>0.0</td>\n",
       "    </tr>\n",
       "  </tbody>\n",
       "</table>\n",
       "</div>"
      ],
      "text/plain": [
       "   SeriousDlqin2yrs  RevolvingUtilizationOfUnsecuredLines  age  \\\n",
       "1                 1                              0.766127   45   \n",
       "2                 0                              0.957151   40   \n",
       "3                 0                              0.658180   38   \n",
       "4                 0                              0.233810   30   \n",
       "5                 0                              0.907239   49   \n",
       "\n",
       "   NumberOfTime30-59DaysPastDueNotWorse  DebtRatio  MonthlyIncome  \\\n",
       "1                                     2   0.802982         9120.0   \n",
       "2                                     0   0.121876         2600.0   \n",
       "3                                     1   0.085113         3042.0   \n",
       "4                                     0   0.036050         3300.0   \n",
       "5                                     1   0.024926        63588.0   \n",
       "\n",
       "   NumberOfOpenCreditLinesAndLoans  NumberOfTimes90DaysLate  \\\n",
       "1                               13                        0   \n",
       "2                                4                        0   \n",
       "3                                2                        1   \n",
       "4                                5                        0   \n",
       "5                                7                        0   \n",
       "\n",
       "   NumberRealEstateLoansOrLines  NumberOfTime60-89DaysPastDueNotWorse  \\\n",
       "1                             6                                     0   \n",
       "2                             0                                     0   \n",
       "3                             0                                     0   \n",
       "4                             0                                     0   \n",
       "5                             1                                     0   \n",
       "\n",
       "   NumberOfDependents  \n",
       "1                 2.0  \n",
       "2                 1.0  \n",
       "3                 0.0  \n",
       "4                 0.0  \n",
       "5                 0.0  "
      ]
     },
     "execution_count": 52,
     "metadata": {},
     "output_type": "execute_result"
    }
   ],
   "source": [
    "import pandas as pd\n",
    "import numpy as np\n",
    "import matplotlib.pyplot as plt\n",
    "from sklearn.metrics import accuracy_score\n",
    "from sklearn.model_selection import KFold\n",
    "\n",
    "\n",
    "%matplotlib inline\n",
    "df = pd.read_csv('./data/cs-training.csv', sep=',')\n",
    "df.head()"
   ]
  },
  {
   "cell_type": "code",
   "execution_count": 53,
   "metadata": {
    "collapsed": false,
    "deletable": true,
    "editable": true
   },
   "outputs": [
    {
     "name": "stdout",
     "output_type": "stream",
     "text": [
      "(120269, 10) (120269, 1)\n",
      "(120269, 10) (120269,)\n"
     ]
    }
   ],
   "source": [
    "df = df.dropna()\n",
    "X = df.as_matrix(columns=df.columns[1:])\n",
    "y = df.as_matrix(columns=df.columns[:1])\n",
    "print(X.shape, y.shape)\n",
    "y = y.reshape(y.shape[0])\n",
    "print(X.shape, y.shape)\n",
    "gkf = KFold(n_splits=5, shuffle=True)"
   ]
  },
  {
   "cell_type": "code",
   "execution_count": 20,
   "metadata": {
    "collapsed": false,
    "deletable": true,
    "editable": true
   },
   "outputs": [
    {
     "name": "stdout",
     "output_type": "stream",
     "text": [
      "(96215,) (24054,)\n",
      "(96215,) (24054,)\n",
      "(96215,) (24054,)\n",
      "(96215,) (24054,)\n",
      "(96216,) (24053,)\n"
     ]
    }
   ],
   "source": [
    "for train, test in gkf.split(X, y):\n",
    "    print(train.shape, test.shape)\n",
    "    X_train, y_train = X[train], y[train]\n",
    "    X_test, y_test = X[test], y[test]\n",
    "    \n",
    "#     clf.fit(X_train, y_train)\n",
    "    \n",
    "#     print(accuracy_score(y_pred=clf.predict(X_test), y_true=y_test))"
   ]
  },
  {
   "cell_type": "code",
   "execution_count": 71,
   "metadata": {
    "collapsed": false,
    "deletable": true,
    "editable": true
   },
   "outputs": [
    {
     "data": {
      "text/plain": [
       "array([[  0.76612661,  45.        ,   2.        , ...,   6.        ,\n",
       "          0.        ,   2.        ],\n",
       "       [  0.95715102,  40.        ,   0.        , ...,   0.        ,\n",
       "          0.        ,   1.        ],\n",
       "       [  0.65818014,  38.        ,   1.        , ...,   0.        ,\n",
       "          0.        ,   0.        ],\n",
       "       ..., \n",
       "       [  0.29974515,  44.        ,   0.        , ...,   1.        ,\n",
       "          0.        ,   2.        ],\n",
       "       [  0.        ,  30.        ,   0.        , ...,   0.        ,\n",
       "          0.        ,   0.        ],\n",
       "       [  0.85028295,  64.        ,   0.        , ...,   2.        ,\n",
       "          0.        ,   0.        ]])"
      ]
     },
     "execution_count": 71,
     "metadata": {},
     "output_type": "execute_result"
    }
   ],
   "source": [
    "X\n"
   ]
  },
  {
   "cell_type": "code",
   "execution_count": 72,
   "metadata": {
    "collapsed": false,
    "deletable": true,
    "editable": true
   },
   "outputs": [
    {
     "name": "stdout",
     "output_type": "stream",
     "text": [
      "2047\n",
      "120269 [ 1.  1.] (array([     0,      1,      2, ..., 120266, 120267, 120268]),)\n",
      "8357 [ 0.0694859  0.0694859] (array([     0,     11,     18, ..., 120239, 120243, 120251]),)\n",
      "111912 [ 0.9305141  0.9305141] (array([     1,      2,      3, ..., 120266, 120267, 120268]),)\n"
     ]
    }
   ],
   "source": [
    "def init_list_of_objects(size):\n",
    "    list_of_objects = list()\n",
    "    for i in range(0, size):\n",
    "        list_of_objects.append(list())\n",
    "    return list_of_objects\n",
    "\n",
    "treeList = init_list_of_objects(pow(2, X.shape[1] + 1) - 1)\n",
    "sizeArr = np.zeros((X.shape[1] + 1, 2))\n",
    "print(len(treeList))\n",
    "\n",
    "treeList[0] = np.where(y > y.min() - 1)\n",
    "sizeArr[0] = treeList[0][0].shape[0]/treeList[0][0].shape[0]\n",
    "print(treeList[0][0].shape[0], sizeArr[0], treeList[0])\n",
    "\n",
    "mask = y[treeList[0][0]] > 0\n",
    "treeList[1] = np.where(mask)\n",
    "sizeArr[1][0] = treeList[1][0].shape[0]/treeList[0][0].shape[0]\n",
    "sizeArr[1][1] = treeList[1][0].shape[0]/treeList[0][0].shape[0]\n",
    "print(treeList[1][0].shape[0], sizeArr[1], treeList[1])\n",
    "\n",
    "treeList[2] = np.where(~mask)\n",
    "sizeArr[2][0] = treeList[2][0].shape[0]/treeList[0][0].shape[0]\n",
    "sizeArr[2][1] = treeList[2][0].shape[0]/treeList[0][0].shape[0]\n",
    "print(treeList[2][0].shape[0], sizeArr[2], treeList[2])"
   ]
  },
  {
   "cell_type": "code",
   "execution_count": 9,
   "metadata": {
    "collapsed": false,
    "deletable": true,
    "editable": true
   },
   "outputs": [
    {
     "name": "stdout",
     "output_type": "stream",
     "text": [
      "38.331sec\n",
      "[[ 0.          0.          0.18899463]\n",
      " [ 0.          0.          0.1163038 ]\n",
      " [ 0.          0.          0.22367837]\n",
      " ..., \n",
      " [ 0.          0.          0.33049682]\n",
      " [ 0.          0.          5.        ]\n",
      " [ 0.          0.          0.16054783]]\n",
      "8.31539955433e-06 68523\n"
     ]
    }
   ],
   "source": [
    "import time\n",
    "\n",
    "# def get_H(X):\n",
    "newR = X.T[0]\n",
    "ar_H1H2G = np.zeros((X.T[0].shape[0], 3))\n",
    "t1 = time.time()\n",
    "for el in range(len(newR)):\n",
    "    beta = newR[el]\n",
    "    if beta != 0:\n",
    "        p1 = (beta > newR).sum() / newR.shape[0]\n",
    "        p2 = (beta <= newR).sum() / newR.shape[0]\n",
    "        ar_H1H2G[el][2] = -pow(p1,2)*np.log(p1) - pow(p2,2)*np.log(p2)\n",
    "    else:\n",
    "        ar_H1H2G[el][2] = 5\n",
    "print(\"%.3fsec\" % (time.time() - t1))\n",
    "print(ar_H1H2G)\n",
    "print(ar_H1H2G.T[2].min(), ar_H1H2G.T[2].argmin())"
   ]
  },
  {
   "cell_type": "code",
   "execution_count": 5,
   "metadata": {
    "collapsed": false,
    "deletable": true,
    "editable": true
   },
   "outputs": [
    {
     "name": "stdout",
     "output_type": "stream",
     "text": [
      "28.194sec\n",
      "[  5.00000000e+00   5.00000000e+00   5.00000000e+00 ...,   8.31539955e-06\n",
      "   5.00000000e+00   5.00000000e+00]\n",
      "8.31539955433e-06 22\n"
     ]
    }
   ],
   "source": [
    "import time\n",
    "\n",
    "newR = X.T[0]\n",
    "ar_H1H2G = np.zeros((newR.shape[0], ))\n",
    "t1 = time.time()\n",
    "for el in range(len(newR)):\n",
    "    beta1 = ((np.array([newR.shape[0], ])*newR[el] - newR) > 0).sum()\n",
    "    if (beta1 != 0) and (beta1 != newR.shape[0]):\n",
    "        p1 = beta1 / newR.shape[0]\n",
    "        # p2 = 1 - p1\n",
    "        ar_H1H2G[el] = -pow(p1, 2)*np.log(p1) - pow(1 - p1, 2)*np.log(1 - p1)\n",
    "    else:\n",
    "        ar_H1H2G[el] = 5\n",
    "print(\"%.3fsec\" % (time.time() - t1))\n",
    "print(ar_H1H2G)\n",
    "print(ar_H1H2G.min(), ar_H1H2G.argmin())"
   ]
  },
  {
   "cell_type": "code",
   "execution_count": 54,
   "metadata": {
    "collapsed": false,
    "deletable": true,
    "editable": true
   },
   "outputs": [
    {
     "name": "stdout",
     "output_type": "stream",
     "text": [
      "[     0.      0.      0. ...,  22000.  29110.  50708.] 0.0 50708.0\n"
     ]
    }
   ],
   "source": [
    "newR = np.sort(X.T[0])\n",
    "print(newR, X.T[0].min(), X.T[0].max())"
   ]
  },
  {
   "cell_type": "code",
   "execution_count": 54,
   "metadata": {
    "collapsed": false,
    "deletable": true,
    "editable": true
   },
   "outputs": [
    {
     "name": "stdout",
     "output_type": "stream",
     "text": [
      "120269\n",
      "m= 60134 newR[m]= 0.177282104\n",
      "p1= 0.0584855615329 h1= 0.00971088815729\n",
      "p2= 0.941514438467 h2= 0.0534224031661\n",
      "0.0631332913233\n"
     ]
    }
   ],
   "source": [
    "l = 0\n",
    "r = newR.shape[0] - 1\n",
    "while r - l > 0:\n",
    "    m = (l + r) // 2\n",
    "    bm = newR[m]\n",
    "    pm = np.logical_and(y > 0, X.T[0] > bm).sum() / newR.shape[0]\n",
    "    gm = -pow(pm,2)*np.log(pm) - pow(1 - pm,2)*np.log(1 - pm) \n",
    "    bl = newR[r]\n",
    "    pr = np.logical_and(y > 0, X.T[0] > br).sum() / newR.shape[0]\n",
    "    gr = -pow(pr,2)*np.log(pr) - pow(1 - pr,2)*np.log(1 - pr) \n",
    "print(\"---------------------------\")\n",
    "print(\"m=\", m, \"newR[m]=\", newR[m])\n",
    "print(\"r=\", r, \"newR[r]=\", newR[r])\n",
    "print(\"pm=\", pm, \"gm=\", gm)\n",
    "print(\"pr=\", pr, \"gr=\", gr)\n",
    "print(gm + gr)"
   ]
  },
  {
   "cell_type": "code",
   "execution_count": 106,
   "metadata": {
    "collapsed": false,
    "deletable": true,
    "editable": true
   },
   "outputs": [
    {
     "name": "stdout",
     "output_type": "stream",
     "text": [
      "0.0631507663926\n",
      "0.0481246449844\n",
      "0.0302812011753\n",
      "0.0088466115928\n",
      "0.0088466115928\n",
      "0.00652171871647\n",
      "0.00317636478457\n",
      "0.00119630955826\n",
      "0.00034162314135\n",
      "7.48688751111e-05\n",
      "5.82244873723e-05\n",
      "2.49474169727e-05\n",
      "1.66307991087e-05\n",
      "1.66307991087e-05\n",
      "1.66307991087e-05\n",
      "1.66307991087e-05\n",
      "1.66307991087e-05\n"
     ]
    }
   ],
   "source": [
    "l = 0\n",
    "r = newR.shape[0] - 1\n",
    "lenno = newR.shape[0]\n",
    "while r - l > 1:\n",
    "    m = (l + r) // 2\n",
    "    bm = newR[m]\n",
    "    pm1 = ((y > 0)*(X.T[0] > bm)).sum() / lenno\n",
    "    pm2 = ((y > 0)*(X.T[0] <= bm)).sum() / lenno\n",
    "    if pm != 0:\n",
    "        gm = -pow(pm, 2)*np.log(pm) - pow((1 - pm), 2)*np.log(1 - pm) \n",
    "        br = newR[r]\n",
    "        pr = ((y > 0)*(X.T[0] > br)).sum() / lenno\n",
    "        if pr != 0:\n",
    "            gr = -pow(pr, 2)*np.log(pr) - pow((1 - pr), 2)*np.log(1 - pr) \n",
    "            if gm < gr:\n",
    "                r = m\n",
    "            else:\n",
    "                l = m\n",
    "#             print(\"---------------------------\")\n",
    "#             print(\"m=\", m, \"newR[m]=\", newR[m])\n",
    "#             print(\"r=\", r, \"newR[r]=\", newR[r])\n",
    "#             print(\"pm=\", pm, \"gm=\", gm)\n",
    "#             print(\"pr=\", pr, \"gr=\", gr)\n",
    "            print(gm + gr)\n",
    "        else:\n",
    "            r = r - 1\n",
    "#             print(\"r0!\", pr, r)    \n",
    "    else:\n",
    "        m = m - 1\n",
    "#         print(\"m0!\", pm, m)"
   ]
  },
  {
   "cell_type": "code",
   "execution_count": 82,
   "metadata": {
    "collapsed": false,
    "deletable": true,
    "editable": true
   },
   "outputs": [
    {
     "name": "stdout",
     "output_type": "stream",
     "text": [
      "1 0 60134 90201 120268\n",
      "0.0 0.0646572651675 0.0662323316602\n",
      "--------------\n",
      "2 0 30067 45100 60134\n",
      "0.0 0.0646572651675 0.0662323316602\n",
      "--------------\n",
      "3 0 15033 22550 30067\n",
      "0.0 0.0646572651675 0.0662323316602\n",
      "--------------\n",
      "4 0 7516 11274 15033\n",
      "0.0 0.0646572651675 0.0662323316602\n",
      "--------------\n",
      "5 0 3758 5637 7516\n",
      "1 3758 5637\n"
     ]
    }
   ],
   "source": [
    "ll = 0\n",
    "rr = newR.shape[0] - 1\n",
    "l = ll\n",
    "r = rr\n",
    "Xlen = newR.shape[0]\n",
    "beta = 0\n",
    "iterio = 0\n",
    "min_g = 2\n",
    "g = np.zeros((2,))\n",
    "while 1:\n",
    "# while r - l > 1:\n",
    "    iterio += 1\n",
    "    m0 = (l + r) // 2\n",
    "    m1 = m0 + (r - m0) // 2\n",
    "    print(iterio, l, m0, m1, r)\n",
    "    \n",
    "    bm0 = newR[m0]\n",
    "    bm1 = newR[m1]\n",
    "    \n",
    "    x0l_len = m0 - ll\n",
    "    x0r_len = rr - m0\n",
    "    \n",
    "    x1l_len = m1 - ll\n",
    "    x1r_len = rr - m1\n",
    "#     print(\"_len\", x0l_len, x0r_len, x1l_len, x1r_len)\n",
    "    \n",
    "    p00l = ((y > beta)*(newR <= bm0)).sum() / x0l_len\n",
    "    p00r = ((y > beta)*(newR > bm0)).sum() / x0r_len    \n",
    "    p10l = ((y <= beta)*(newR <= bm0)).sum() / x0l_len\n",
    "    p10r = ((y <= beta)*(newR > bm0)).sum() / x0r_len\n",
    "    \n",
    "    \n",
    "    p01l = ((y > beta)*(newR <= bm1)).sum() / x1l_len\n",
    "    p01r = ((y > beta)*(newR > bm1)).sum() / x1r_len    \n",
    "    p11l = ((y <= beta)*(newR <= bm1)).sum() / x1l_len\n",
    "    p11r = ((y <= beta)*(newR > bm1)).sum() / x1r_len\n",
    "    \n",
    "    \n",
    "    p0l = ((y > beta)*(newR > newR[l])*(newR <= bm0)).sum() / x0l_len\n",
    "    p0r = ((y > beta)*(newR > bm0)*(newR < newR[r])).sum() / x0r_len\n",
    "    p1l = ((y <= beta)*(newR > newR[l])*(newR <= bm0)).sum() / x0l_len    \n",
    "    p1r = ((y <= beta)*(newR > bm0)*(newR < newR[r])).sum() / x0r_len\n",
    "\n",
    "        \n",
    "#     p01l = ((y > beta)*((newR > bm0)*(newR <= bm1))).sum() / x1l_len\n",
    "#     p01r = ((y > beta)*(newR > bm1)*(newR < newR[r])).sum() / x1r_len    \n",
    "#     p11l = ((y <= beta)*((newR > bm0)*(newR <= bm1))).sum() / x1l_len    \n",
    "#     p11r = ((y <= beta)*(newR > bm1)*(newR < newR[r])).sum() / x1r_len\n",
    "\n",
    "#     print(\"lek\", ((y > beta)*(newR <= bm0)).sum(), ((y <= beta)*(newR <= bm0)).sum(), \n",
    "#                   ((y > beta)*(newR > bm0)).sum(), ((y <= beta)*(newR > bm0)).sum())\n",
    "#     print(\"осн доли\", '%.5f' % p00l, '%.5f' % p10l, '%.5f' % p00r, '%.5f' % p10r)\n",
    "#     print(\"доп доли\", '%.5f' % p01l, '%.5f' % p11l, '%.5f' % p01r, '%.5f' % p11r)\n",
    "    \n",
    "    hl = p00l*p10l\n",
    "    hr = p00r*p10r\n",
    "    h1l = p01l*p11l\n",
    "    h1r = p01r*p11r\n",
    "    \n",
    "#     hl = -p0l*np.log(p0l) - p1l*np.log(p1l)\n",
    "#     hr = -p0r*np.log(p0r) - p1r*np.log(p1r)\n",
    "    g[0] = (x0l_len/Xlen)*hl + (x0r_len/Xlen)*hr    \n",
    "#     h1l = -p01l*np.log(p01l) - p11l*np.log(p11l)\n",
    "#     h1r = -p01r*np.log(p01r) - p11r*np.log(p11r)\n",
    "    g[1] = (x1l_len/Xlen)*h1l + (x1r_len/Xlen)*h1r    \n",
    "\n",
    "    if g0 < g1:\n",
    "        r = m0\n",
    "    else:\n",
    "        l = m0\n",
    "    \n",
    "    if min_g - g.min() > pow(10, -10):\n",
    "        min_g = g.min()\n",
    "    else:\n",
    "        print(g.argmin(), m0, m1)\n",
    "        break\n",
    "    print(min_g - g.min(), g0, g1)\n",
    "    print(\"--------------\")"
   ]
  }
 ],
 "metadata": {
  "kernelspec": {
   "display_name": "Python 3",
   "language": "python",
   "name": "python3"
  },
  "language_info": {
   "codemirror_mode": {
    "name": "ipython",
    "version": 3
   },
   "file_extension": ".py",
   "mimetype": "text/x-python",
   "name": "python",
   "nbconvert_exporter": "python",
   "pygments_lexer": "ipython3",
   "version": "3.5.2"
  }
 },
 "nbformat": 4,
 "nbformat_minor": 2
}
