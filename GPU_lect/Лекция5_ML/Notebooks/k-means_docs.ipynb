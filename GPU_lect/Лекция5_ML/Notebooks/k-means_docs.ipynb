{
 "cells": [
  {
   "cell_type": "code",
   "execution_count": 1,
   "metadata": {
    "collapsed": true
   },
   "outputs": [],
   "source": [
    "from sklearn.datasets import fetch_20newsgroups\n",
    "from sklearn.decomposition import TruncatedSVD\n",
    "from sklearn.feature_extraction.text import TfidfVectorizer"
   ]
  },
  {
   "cell_type": "code",
   "execution_count": 2,
   "metadata": {
    "collapsed": true
   },
   "outputs": [],
   "source": [
    "from sklearn.cluster import KMeans, MiniBatchKMeans"
   ]
  },
  {
   "cell_type": "code",
   "execution_count": 3,
   "metadata": {
    "collapsed": true
   },
   "outputs": [],
   "source": [
    "from sklearn import metrics"
   ]
  },
  {
   "cell_type": "code",
   "execution_count": 4,
   "metadata": {
    "collapsed": true
   },
   "outputs": [],
   "source": [
    "import numpy as np"
   ]
  },
  {
   "cell_type": "markdown",
   "metadata": {},
   "source": [
    "# Выбираем интересующие нас тематики"
   ]
  },
  {
   "cell_type": "code",
   "execution_count": 5,
   "metadata": {
    "collapsed": true
   },
   "outputs": [],
   "source": [
    "categories = [\n",
    "    'alt.atheism',\n",
    "    'talk.religion.misc',\n",
    "    'comp.graphics',\n",
    "    'sci.space',\n",
    "]"
   ]
  },
  {
   "cell_type": "code",
   "execution_count": 6,
   "metadata": {
    "collapsed": false
   },
   "outputs": [],
   "source": [
    "dataset = fetch_20newsgroups(subset='all', categories=categories, shuffle=True, random_state=42)"
   ]
  },
  {
   "cell_type": "code",
   "execution_count": 7,
   "metadata": {
    "collapsed": false
   },
   "outputs": [
    {
     "name": "stdout",
     "output_type": "stream",
     "text": [
      "3387 documents\n",
      "4 categories\n"
     ]
    }
   ],
   "source": [
    "print(\"%d documents\" % len(dataset.data))\n",
    "print(\"%d categories\" % len(dataset.target_names))"
   ]
  },
  {
   "cell_type": "code",
   "execution_count": 8,
   "metadata": {
    "collapsed": false
   },
   "outputs": [],
   "source": [
    "labels = dataset.target\n",
    "true_k = np.unique(labels).shape[0]"
   ]
  },
  {
   "cell_type": "markdown",
   "metadata": {},
   "source": [
    "# Создаём векторизатор"
   ]
  },
  {
   "cell_type": "code",
   "execution_count": 10,
   "metadata": {
    "collapsed": true
   },
   "outputs": [],
   "source": [
    "vectorizer = TfidfVectorizer(max_df=0.5, max_features=10000,\n",
    "                             min_df=2, stop_words='english',\n",
    "                             use_idf=True) # False"
   ]
  },
  {
   "cell_type": "code",
   "execution_count": 11,
   "metadata": {
    "collapsed": true
   },
   "outputs": [],
   "source": [
    "X = vectorizer.fit_transform(dataset.data)"
   ]
  },
  {
   "cell_type": "code",
   "execution_count": 12,
   "metadata": {
    "collapsed": false
   },
   "outputs": [
    {
     "data": {
      "text/plain": [
       "(3387, 10000)"
      ]
     },
     "execution_count": 12,
     "metadata": {},
     "output_type": "execute_result"
    }
   ],
   "source": [
    "X.shape"
   ]
  },
  {
   "cell_type": "markdown",
   "metadata": {},
   "source": [
    "# Находим кластеры"
   ]
  },
  {
   "cell_type": "code",
   "execution_count": 13,
   "metadata": {
    "collapsed": false
   },
   "outputs": [],
   "source": [
    "km = KMeans(n_clusters=true_k, init='k-means++', max_iter=100, n_init=1, verbose=True)"
   ]
  },
  {
   "cell_type": "code",
   "execution_count": 14,
   "metadata": {
    "collapsed": false
   },
   "outputs": [
    {
     "name": "stdout",
     "output_type": "stream",
     "text": [
      "Initialization complete\n",
      "Iteration  0, inertia 6470.985\n",
      "Iteration  1, inertia 3299.081\n",
      "Iteration  2, inertia 3281.147\n",
      "Iteration  3, inertia 3276.337\n",
      "Iteration  4, inertia 3274.419\n",
      "Iteration  5, inertia 3273.454\n",
      "Iteration  6, inertia 3272.831\n",
      "Iteration  7, inertia 3272.398\n",
      "Iteration  8, inertia 3272.061\n",
      "Iteration  9, inertia 3271.719\n",
      "Iteration 10, inertia 3271.464\n",
      "Iteration 11, inertia 3271.223\n",
      "Iteration 12, inertia 3270.979\n",
      "Iteration 13, inertia 3270.759\n",
      "Iteration 14, inertia 3270.568\n",
      "Iteration 15, inertia 3270.355\n",
      "Iteration 16, inertia 3269.997\n",
      "Iteration 17, inertia 3269.659\n",
      "Iteration 18, inertia 3269.415\n",
      "Iteration 19, inertia 3269.235\n",
      "Iteration 20, inertia 3269.144\n",
      "Iteration 21, inertia 3269.087\n",
      "Iteration 22, inertia 3269.034\n",
      "Iteration 23, inertia 3269.008\n",
      "Iteration 24, inertia 3268.992\n",
      "Iteration 25, inertia 3268.980\n",
      "Iteration 26, inertia 3268.963\n",
      "Iteration 27, inertia 3268.947\n",
      "Iteration 28, inertia 3268.934\n",
      "Iteration 29, inertia 3268.905\n",
      "Iteration 30, inertia 3268.889\n",
      "Iteration 31, inertia 3268.877\n",
      "Iteration 32, inertia 3268.865\n",
      "Iteration 33, inertia 3268.852\n",
      "Iteration 34, inertia 3268.834\n",
      "Iteration 35, inertia 3268.813\n",
      "Iteration 36, inertia 3268.801\n",
      "Iteration 37, inertia 3268.789\n",
      "Iteration 38, inertia 3268.780\n",
      "Converged at iteration 38: center shift 0.000000e+00 within tolerance 9.816505e-09\n"
     ]
    },
    {
     "data": {
      "text/plain": [
       "KMeans(algorithm='auto', copy_x=True, init='k-means++', max_iter=100,\n",
       "    n_clusters=4, n_init=1, n_jobs=1, precompute_distances='auto',\n",
       "    random_state=None, tol=0.0001, verbose=True)"
      ]
     },
     "execution_count": 14,
     "metadata": {},
     "output_type": "execute_result"
    }
   ],
   "source": [
    "km.fit(X)"
   ]
  },
  {
   "cell_type": "code",
   "execution_count": null,
   "metadata": {
    "collapsed": true
   },
   "outputs": [],
   "source": []
  },
  {
   "cell_type": "code",
   "execution_count": 15,
   "metadata": {
    "collapsed": false
   },
   "outputs": [
    {
     "name": "stdout",
     "output_type": "stream",
     "text": [
      "Homogeneity: 0.379\n",
      "Completeness: 0.453\n",
      "V-measure: 0.412\n",
      "Adjusted Rand-Index: 0.290\n",
      "Silhouette Coefficient: 0.007\n"
     ]
    }
   ],
   "source": [
    "print(\"Homogeneity: %0.3f\" % metrics.homogeneity_score(labels, km.labels_))\n",
    "print(\"Completeness: %0.3f\" % metrics.completeness_score(labels, km.labels_))\n",
    "print(\"V-measure: %0.3f\" % metrics.v_measure_score(labels, km.labels_))\n",
    "print(\"Adjusted Rand-Index: %.3f\"\n",
    "      % metrics.adjusted_rand_score(labels, km.labels_))\n",
    "print(\"Silhouette Coefficient: %0.3f\"\n",
    "      % metrics.silhouette_score(X, km.labels_, sample_size=1000))"
   ]
  },
  {
   "cell_type": "code",
   "execution_count": 15,
   "metadata": {
    "collapsed": true
   },
   "outputs": [],
   "source": [
    "terms = vectorizer.get_feature_names()"
   ]
  },
  {
   "cell_type": "code",
   "execution_count": 18,
   "metadata": {
    "collapsed": false
   },
   "outputs": [],
   "source": [
    "order_centroids = km.cluster_centers_.argsort()[:, ::-1]"
   ]
  },
  {
   "cell_type": "code",
   "execution_count": 27,
   "metadata": {
    "collapsed": false
   },
   "outputs": [
    {
     "name": "stdout",
     "output_type": "stream",
     "text": [
      "Cluster 0:\n",
      " uk\n",
      " ac\n",
      " mathew\n",
      " university\n",
      " article\n",
      " mantis\n",
      " posting\n",
      " host\n",
      " nntp\n",
      " like\n",
      "Cluster 1:\n",
      " space\n",
      " nasa\n",
      " access\n",
      " article\n",
      " henry\n",
      " gov\n",
      " just\n",
      " posting\n",
      " com\n",
      " like\n",
      "Cluster 2:\n",
      " com\n",
      " god\n",
      " article\n",
      " don\n",
      " people\n",
      " think\n",
      " just\n",
      " know\n",
      " say\n",
      " like\n",
      "Cluster 3:\n",
      " university\n",
      " posting\n",
      " host\n",
      " nntp\n",
      " article\n",
      " graphics\n",
      " know\n",
      " like\n",
      " just\n",
      " cs\n"
     ]
    }
   ],
   "source": [
    "for i in range(true_k):\n",
    "    print(\"Cluster %d:\" % i)\n",
    "    for ind in order_centroids[i, :10]:\n",
    "        print(' %s' % terms[ind])"
   ]
  },
  {
   "cell_type": "code",
   "execution_count": null,
   "metadata": {
    "collapsed": true
   },
   "outputs": [],
   "source": []
  }
 ],
 "metadata": {
  "kernelspec": {
   "display_name": "Python 2",
   "language": "python",
   "name": "python2"
  },
  "language_info": {
   "codemirror_mode": {
    "name": "ipython",
    "version": 2
   },
   "file_extension": ".py",
   "mimetype": "text/x-python",
   "name": "python",
   "nbconvert_exporter": "python",
   "pygments_lexer": "ipython2",
   "version": "2.7.12"
  }
 },
 "nbformat": 4,
 "nbformat_minor": 2
}
