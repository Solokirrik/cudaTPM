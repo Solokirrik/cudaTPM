{
 "cells": [
  {
   "cell_type": "markdown",
   "metadata": {
    "deletable": true,
    "editable": true
   },
   "source": [
    "# Кластеризация"
   ]
  },
  {
   "cell_type": "markdown",
   "metadata": {
    "deletable": true,
    "editable": true
   },
   "source": [
    "Реализовать алгоритмы кластеризации:\n",
    "* KMeans(random)\n",
    "* MiniBatchKMeans"
   ]
  },
  {
   "cell_type": "markdown",
   "metadata": {
    "deletable": true,
    "editable": true
   },
   "source": [
    "Прототип класса:"
   ]
  },
  {
   "cell_type": "code",
   "execution_count": 107,
   "metadata": {
    "collapsed": false,
    "deletable": true,
    "editable": true
   },
   "outputs": [],
   "source": [
    "from mpl_toolkits.mplot3d import Axes3D\n",
    "import time\n",
    "import matplotlib.image as mpimg\n",
    "import matplotlib.pyplot as plt\n",
    "import numpy as np\n",
    "\n",
    "params = {'figure.subplot.left': 0.0,\n",
    "          'figure.subplot.right': 1.0,\n",
    "          'figure.subplot.bottom': 0.0,\n",
    "          'figure.subplot.top': 1.0}\n",
    "plt.rcParams.update(params)\n",
    "\n",
    "fig = plt.figure()\n",
    "ax = fig.gca(projection='3d')\n",
    "\n",
    "image = mpimg.imread('./mailru.jpg')\n",
    "data = image.reshape((image.shape[0] * image.shape[1], 3))\n",
    "\n",
    "clusters = 64\n",
    "d_min = np.min(data)\n",
    "d_max = np.max(data)"
   ]
  },
  {
   "cell_type": "code",
   "execution_count": 13,
   "metadata": {
    "collapsed": false,
    "deletable": true,
    "editable": true
   },
   "outputs": [],
   "source": [
    "from mpl_toolkits.mplot3d import Axes3D\n",
    "import matplotlib.image as mpimg\n",
    "import matplotlib.pyplot as plt\n",
    "import numpy as np\n",
    "import time\n",
    "\n",
    "params = {'figure.subplot.left': 0.0,\n",
    "          'figure.subplot.right': 1.0,\n",
    "          'figure.subplot.bottom': 0.0,\n",
    "          'figure.subplot.top': 1.0}\n",
    "\n",
    "plt.rcParams.update(params)\n",
    "fig = plt.figure()\n",
    "# ax = fig.gca(projection='3d')\n",
    "\n",
    "image = mpimg.imread('./mailru.jpg')\n",
    "data = image.reshape((image.shape[0]*image.shape[1], 3))\n",
    "\n",
    "\n",
    "class KMean:  # или MiniBatchKMeans\n",
    "    def __init__(self, clusters):\n",
    "        self.clusters = clusters\n",
    "\n",
    "    def __init_mass_centers(self):\n",
    "        self.d_depth = self.data.shape[1]\n",
    "        return np.random.randint(self.data.min(), self.data.max(), [self.clusters, self.d_depth])\n",
    "\n",
    "    def __init_list_of_objects(self):\n",
    "        list_of_objects = list()\n",
    "        for i in range(0, self.clusters):\n",
    "            list_of_objects.append(list())\n",
    "        return list_of_objects\n",
    "\n",
    "    def __rclc_mass_centers(self, new_cnt):\n",
    "        for string_n in range(len(self.cent_data)):\n",
    "            if len(self.cent_data[string_n]) > 0:\n",
    "                new_cen = np.zeros([1, self.d_depth])\n",
    "                for elem_s in range(len(self.cent_data[string_n])):\n",
    "                    new_cen = new_cen + self.data[self.cent_data[string_n][elem_s]]\n",
    "                dif_cen = (new_cen / (len(self.cent_data[string_n]))).astype(int)\n",
    "                if (self.cntrs[string_n] - dif_cen != np.zeros([1, self.d_depth])).all():\n",
    "                    new_cnt += 1\n",
    "                    self.cntrs[string_n] = dif_cen\n",
    "        return new_cnt\n",
    "\n",
    "    def fit(self, data_g):\n",
    "        self.data = data_g\n",
    "        self.cntrs = self.__init_mass_centers()\n",
    "\n",
    "        new_cnt = 1\n",
    "        while new_cnt > 0:\n",
    "            t0 = time.time()\n",
    "            new_cnt = 0\n",
    "            self.cent_data = self.__init_list_of_objects()\n",
    "            for dot in range(len(self.data)):\n",
    "                clust_dist = np.sum(np.abs(self.cntrs - np.array([self.data[dot]] * 64)) ** 2, axis=-1) ** (1. / 2)\n",
    "                min_ind = clust_dist.argmin()\n",
    "                self.cent_data[min_ind].append(dot)\n",
    "            # ax.scatter(self.cntrs.T[0], self.cntrs.T[1], self.cntrs.T[2])\n",
    "            print(time.time() - t0)\n",
    "\n",
    "            new_cnt = self.__rclc_mass_centers(new_cnt)\n",
    "\n",
    "        new_data = np.zeros(self.data.shape)\n",
    "        for row in range(len(self.cent_data)):\n",
    "            print(row, self.cntrs[row], len(self.cent_data[row]))\n",
    "            for item in range(len(self.cent_data[row])):\n",
    "                new_data[self.cent_data[row][item]] = self.cntrs[row]\n",
    "\n",
    "        # ax.scatter(self.cntrs.T[0], self.cntrs.T[1], self.cntrs.T[2], label=\"stop\")\n",
    "        # ax.set_zlim(self.data.min(), self.data.max())\n",
    "        # plt.xlabel(\"X\")\n",
    "        # plt.ylabel(\"Y\")\n",
    "        # plt.legend()\n",
    "        # plt.show()\n",
    "        return new_data\n",
    "\n",
    "    def predict(self, data_g):\n",
    "        predict_cent_data = self.__init_list_of_objects()\n",
    "        for dot in range(len(data_g)):\n",
    "            clust_dist = np.sum(np.abs(self.cntrs - np.array([data_g[dot]] * 64)) ** 2, axis=-1) ** (1. / 2)\n",
    "            min_ind = clust_dist.argmin()\n",
    "            predict_cent_data[min_ind].append(dot)\n",
    "\n",
    "\n",
    "var_s = 64\n",
    "new_image = KMean(var_s).fit(data)\n",
    "new_image = new_image.reshape((image.shape[0], image.shape[1], 3)).astype(np.uint8)\n",
    "# new_image.reshape((image.shape[0], image.shape[1], 3))\n",
    "plt.axis(\"off\")\n",
    "plt.imshow(new_image)\n",
    "plt.show()\n"
   ]
  },
  {
   "cell_type": "code",
   "execution_count": 98,
   "metadata": {
    "collapsed": false,
    "deletable": true,
    "editable": true
   },
   "outputs": [
    {
     "name": "stdout",
     "output_type": "stream",
     "text": [
      "5.478881359100342\n",
      "5.322190523147583\n",
      "5.392370939254761\n",
      "5.2810750007629395\n",
      "5.284531593322754\n",
      "5.304709196090698\n",
      "5.278348207473755\n",
      "5.251257419586182\n",
      "5.300126075744629\n",
      "5.2999958992004395\n",
      "5.25924277305603\n",
      "5.295369625091553\n",
      "5.286761999130249\n",
      "5.276061058044434\n",
      "5.247843027114868\n",
      "5.278778076171875\n",
      "5.4105000495910645\n",
      "5.306851625442505\n",
      "5.304386377334595\n",
      "5.303792238235474\n",
      "5.265331983566284\n",
      "5.318805694580078\n",
      "5.293690204620361\n",
      "5.311124324798584\n",
      "5.294252872467041\n"
     ]
    }
   ],
   "source": [
    "def init_list_of_objects(size):\n",
    "    list_of_objects = list()\n",
    "    for i in range(0, size):\n",
    "        list_of_objects.append(list())\n",
    "    return list_of_objects\n",
    "\n",
    "d_depth = data.shape[1]\n",
    "cntrs = np.random.randint(data.min(), data.max(), [clusters, d_depth])\n",
    "\n",
    "new_cnt = 1\n",
    "while new_cnt > 0:\n",
    "    t1 = time.time()\n",
    "    new_cnt = 0\n",
    "    cent_data = init_list_of_objects(clusters)\n",
    "    for dot in range(len(data)):\n",
    "        clust_dist = np.sum(np.abs(cntrs - np.array([data[dot]] * 64)) ** 2, axis=-1) ** (1. / 2)\n",
    "        min_ind = clust_dist.argmin()\n",
    "        cent_data[min_ind].append(dot)\n",
    "    # ax.scatter(cntrs.T[0], cntrs.T[1], cntrs.T[2])\n",
    "    print(time.time() - t1)\n",
    "\n",
    "    for string_n in range(len(cent_data)):\n",
    "        if len(cent_data[string_n]) > 0:\n",
    "            new_cen = np.zeros([1, d_depth])\n",
    "            for elem_s in range(len(cent_data[string_n])):\n",
    "                new_cen = new_cen + data[cent_data[string_n][elem_s]]\n",
    "            dif_cen = (new_cen / (len(cent_data[string_n]))).astype(int)\n",
    "            if (cntrs[string_n] - dif_cen != np.zeros([1, d_depth])).all():\n",
    "                new_cnt += 1\n",
    "                cntrs[string_n] = dif_cen"
   ]
  },
  {
   "cell_type": "code",
   "execution_count": 130,
   "metadata": {
    "collapsed": false,
    "deletable": true,
    "editable": true
   },
   "outputs": [
    {
     "name": "stdout",
     "output_type": "stream",
     "text": [
      "0.02724599838256836\n",
      "28.618730545043945\n",
      "0 [34 44 13] 11523\n",
      "1 [119  71  59] 1022\n",
      "2 [106 114 116] 11065\n",
      "3 [ 18 240  31] 0\n",
      "4 [ 64  90 114] 6657\n",
      "5 [95 98 96] 5438\n",
      "6 [ 65 226 202] 0\n",
      "7 [113  19 229] 0\n",
      "8 [ 21 156 249] 0\n",
      "9 [66 77 29] 4262\n",
      "10 [ 74 202 135] 0\n",
      "11 [ 98 110  53] 1028\n",
      "12 [187 248 142] 0\n",
      "13 [ 47 128 224] 0\n",
      "14 [213  20  47] 0\n",
      "15 [102  53 177] 0\n",
      "16 [168   9  92] 0\n",
      "17 [135 140 139] 10412\n",
      "18 [51 62 22] 8513\n",
      "19 [152 155 152] 6315\n",
      "20 [143 130 107] 4172\n",
      "21 [ 49  29 169] 0\n",
      "22 [43 69 96] 4770\n",
      "23 [ 33 149 187] 0\n",
      "24 [249   8 222] 0\n",
      "25 [179 186 193] 7709\n",
      "26 [117 152 188] 28251\n",
      "27 [136 170 201] 12621\n",
      "28 [79 92 38] 2423\n",
      "29 [61 62 53] 5626\n",
      "30 [ 60 226  59] 0\n",
      "31 [229 186  64] 0\n",
      "32 [242 240 237] 6914\n",
      "33 [ 60  61 240] 0\n",
      "34 [163  98  80] 342\n",
      "35 [222 142 248] 0\n",
      "36 [ 37 202  62] 0\n",
      "37 [ 48 135 251] 0\n",
      "38 [ 27  98 178] 0\n",
      "39 [122 127 125] 10905\n",
      "40 [ 39  51 190] 0\n",
      "41 [155  14 152] 0\n",
      "42 [  6  48 191] 0\n",
      "43 [188   5  30] 0\n",
      "44 [247  75  49] 0\n",
      "45 [ 81 120 221] 0\n",
      "46 [149  82  61] 1516\n",
      "47 [234 132   9] 0\n",
      "48 [118 252  15] 0\n",
      "49 [168 157 140] 861\n",
      "50 [171   8 243] 0\n",
      "51 [ 17 251 242] 0\n",
      "52 [83 81 69] 5073\n",
      "53 [ 91 232 172] 0\n",
      "54 [181  73  64] 447\n",
      "55 [ 68 228 192] 0\n",
      "56 [172 173 168] 4354\n",
      "57 [17 22  7] 16184\n",
      "58 [205 205 205] 6645\n",
      "59 [37 39 35] 7548\n",
      "60 [ 60 225  98] 0\n",
      "61 [119 107  88] 3619\n",
      "62 [  8 245  11] 0\n",
      "63 [ 35 235  19] 0\n"
     ]
    }
   ],
   "source": [
    "t1 = time.time()\n",
    "image_g = mpimg.imread('./x3nlgVYICyk.jpg')\n",
    "data_g = image_g.reshape((image_g.shape[0] * image_g.shape[1], 3))\n",
    "\n",
    "def init_list_of_objects(size):\n",
    "    list_of_objects = list()\n",
    "    for i in range(0, size):\n",
    "        list_of_objects.append(list())\n",
    "    return list_of_objects\n",
    "\n",
    "predict_cent_data = init_list_of_objects(clusters)\n",
    "print(time.time() - t1)\n",
    "t1 = time.time()\n",
    "for dot in range(len(data_g)):\n",
    "    clust_dist = np.sum(np.abs(cntrs - np.array([data_g[dot]] * 64)) ** 2, axis=-1) ** (1. / 2)\n",
    "    min_ind = clust_dist.argmin()\n",
    "    predict_cent_data[min_ind].append(dot)\n",
    "print(time.time() - t1)\n",
    "\n",
    "new_data = np.zeros(data_g.shape)\n",
    "for row in range(len(cent_data)):\n",
    "    print(row, cntrs[row], len(cent_data[row]))\n",
    "    for item in range(len(cent_data[row])):\n",
    "        new_data[cent_data[row][item]] = cntrs[row]"
   ]
  },
  {
   "cell_type": "code",
   "execution_count": 134,
   "metadata": {
    "collapsed": false,
    "deletable": true,
    "editable": true
   },
   "outputs": [
    {
     "data": {
      "image/png": "[encoded data removed]",
      "text/plain": [
       "<matplotlib.figure.Figure at 0x7f88c399c208>"
      ]
     },
     "metadata": {},
     "output_type": "display_data"
    }
   ],
   "source": [
    "t1 = time.time()\n",
    "image_g = mpimg.imread('./x3nlgVYICyk.jpg')\n",
    "data_g = image_g.reshape((image_g.shape[0] * image_g.shape[1], 3))\n",
    "\n",
    "# params = {'figure.subplot.left': 0.0,\n",
    "#           'figure.subplot.right': 1.0,\n",
    "#           'figure.subplot.bottom': 0.0,\n",
    "#           'figure.subplot.top': 1.0}\n",
    "\n",
    "# plt.rcParams.update(params)\n",
    "# fig = plt.figure()\n",
    "# ax = fig.gca(projection='3d')\n",
    "\n",
    "# ax.scatter(new_data.T[0], new_data.T[1], new_data.T[2])\n",
    "# ax.set_zlim(data.min(), data.max())\n",
    "# plt.xlabel(\"X\")\n",
    "# plt.ylabel(\"Y\")\n",
    "# plt.show()\n",
    "new_image = new_data.reshape((image_g.shape[0], image_g.shape[1], 3)).astype(np.uint8)\n",
    "ax.scatter(cntrs.T[0], cntrs.T[1], cntrs.T[2])\n",
    "plt.axis(\"off\")\n",
    "plt.imshow(new_image)\n",
    "plt.show()\n"
   ]
  },
  {
   "cell_type": "code",
   "execution_count": 55,
   "metadata": {
    "collapsed": false,
    "deletable": true,
    "editable": true
   },
   "outputs": [
    {
     "name": "stdout",
     "output_type": "stream",
     "text": [
      "The slowest run took 10.27 times longer than the fastest. This could mean that an intermediate result is being cached.\n",
      "1000 loops, best of 3: 367 µs per loop\n"
     ]
    }
   ],
   "source": [
    "timeit np.apply_along_axis(np.linalg.norm, 1, centers - np.array([data[0]]*64))"
   ]
  },
  {
   "cell_type": "code",
   "execution_count": 56,
   "metadata": {
    "collapsed": false,
    "deletable": true,
    "editable": true
   },
   "outputs": [
    {
     "name": "stdout",
     "output_type": "stream",
     "text": [
      "The slowest run took 8.27 times longer than the fastest. This could mean that an intermediate result is being cached.\n",
      "10000 loops, best of 3: 25.5 µs per loop\n"
     ]
    }
   ],
   "source": [
    "timeit np.sum(np.abs(centers - np.array([data[0]]*64))**2, axis=-1)**(1./2)"
   ]
  },
  {
   "cell_type": "code",
   "execution_count": 121,
   "metadata": {
    "collapsed": false,
    "deletable": true,
    "editable": true
   },
   "outputs": [
    {
     "data": {
      "image/png": "[encoded data removed]",
      "text/plain": [
       "<matplotlib.figure.Figure at 0x7f88c2de1128>"
      ]
     },
     "metadata": {},
     "output_type": "display_data"
    }
   ],
   "source": [
    "def init_mass_centers(data):\n",
    "    n_clusters = 64\n",
    "    data_dim = data.shape[1]\n",
    "    data_min = data.min(axis=0)\n",
    "    data_max = data.max(axis=0)\n",
    "    data_delta = data_max - data_min\n",
    "    return np.random \\\n",
    "        .random(n_clusters * data_dim) \\\n",
    "        .reshape(n_clusters, data_dim) \\\n",
    "        * data_delta \\\n",
    "        + data_min\n",
    "        \n",
    "anis_rand = init_mass_centers(data).astype(int)\n",
    "\n",
    "params = {'figure.subplot.left': 0.0,\n",
    "          'figure.subplot.right': 1.0,\n",
    "          'figure.subplot.bottom': 0.0,\n",
    "          'figure.subplot.top': 1.0}\n",
    "\n",
    "plt.rcParams.update(params)\n",
    "fig = plt.figure()\n",
    "ax = fig.gca(projection='3d')\n",
    "ax.scatter(anis_rand.T[0], anis_rand.T[1], anis_rand.T[2])\n",
    "ax.set_zlim(data.min(), data.max())\n",
    "plt.xlabel(\"X\")\n",
    "plt.ylabel(\"Y\")\n",
    "plt.show()"
   ]
  },
  {
   "cell_type": "markdown",
   "metadata": {
    "deletable": true,
    "editable": true
   },
   "source": [
    "Результат:\n",
    "* 2 варианта реализации алгоритма KMeans\n",
    "* Сравнение времени работы п"
   ]
  }
 ],
 "metadata": {
  "kernelspec": {
   "display_name": "Python 3",
   "language": "python",
   "name": "python3"
  },
  "language_info": {
   "codemirror_mode": {
    "name": "ipython",
    "version": 3
   },
   "file_extension": ".py",
   "mimetype": "text/x-python",
   "name": "python",
   "nbconvert_exporter": "python",
   "pygments_lexer": "ipython3",
   "version": "3.5.2"
  }
 },
 "nbformat": 4,
 "nbformat_minor": 0
}
