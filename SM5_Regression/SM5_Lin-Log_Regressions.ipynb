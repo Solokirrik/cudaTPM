{
 "cells": [
  {
   "cell_type": "markdown",
   "metadata": {
    "deletable": true,
    "editable": true
   },
   "source": [
    "# LinearRegression и LogisticRegression"
   ]
  },
  {
   "cell_type": "markdown",
   "metadata": {
    "deletable": true,
    "editable": true
   },
   "source": [
    "Реализовать 2 класса LinearRegression и LogisticRegression"
   ]
  },
  {
   "cell_type": "code",
   "execution_count": 1,
   "metadata": {
    "collapsed": false,
    "deletable": true,
    "editable": true
   },
   "outputs": [
    {
     "data": {
      "text/html": [
       "<div>\n",
       "<table border=\"1\" class=\"dataframe\">\n",
       "  <thead>\n",
       "    <tr style=\"text-align: right;\">\n",
       "      <th></th>\n",
       "      <th>SeriousDlqin2yrs</th>\n",
       "      <th>RevolvingUtilizationOfUnsecuredLines</th>\n",
       "      <th>age</th>\n",
       "      <th>NumberOfTime30-59DaysPastDueNotWorse</th>\n",
       "      <th>DebtRatio</th>\n",
       "      <th>MonthlyIncome</th>\n",
       "      <th>NumberOfOpenCreditLinesAndLoans</th>\n",
       "      <th>NumberOfTimes90DaysLate</th>\n",
       "      <th>NumberRealEstateLoansOrLines</th>\n",
       "      <th>NumberOfTime60-89DaysPastDueNotWorse</th>\n",
       "      <th>NumberOfDependents</th>\n",
       "    </tr>\n",
       "  </thead>\n",
       "  <tbody>\n",
       "    <tr>\n",
       "      <th>1</th>\n",
       "      <td>1</td>\n",
       "      <td>0.766127</td>\n",
       "      <td>45</td>\n",
       "      <td>2</td>\n",
       "      <td>0.802982</td>\n",
       "      <td>9120.0</td>\n",
       "      <td>13</td>\n",
       "      <td>0</td>\n",
       "      <td>6</td>\n",
       "      <td>0</td>\n",
       "      <td>2.0</td>\n",
       "    </tr>\n",
       "    <tr>\n",
       "      <th>2</th>\n",
       "      <td>0</td>\n",
       "      <td>0.957151</td>\n",
       "      <td>40</td>\n",
       "      <td>0</td>\n",
       "      <td>0.121876</td>\n",
       "      <td>2600.0</td>\n",
       "      <td>4</td>\n",
       "      <td>0</td>\n",
       "      <td>0</td>\n",
       "      <td>0</td>\n",
       "      <td>1.0</td>\n",
       "    </tr>\n",
       "    <tr>\n",
       "      <th>3</th>\n",
       "      <td>0</td>\n",
       "      <td>0.658180</td>\n",
       "      <td>38</td>\n",
       "      <td>1</td>\n",
       "      <td>0.085113</td>\n",
       "      <td>3042.0</td>\n",
       "      <td>2</td>\n",
       "      <td>1</td>\n",
       "      <td>0</td>\n",
       "      <td>0</td>\n",
       "      <td>0.0</td>\n",
       "    </tr>\n",
       "    <tr>\n",
       "      <th>4</th>\n",
       "      <td>0</td>\n",
       "      <td>0.233810</td>\n",
       "      <td>30</td>\n",
       "      <td>0</td>\n",
       "      <td>0.036050</td>\n",
       "      <td>3300.0</td>\n",
       "      <td>5</td>\n",
       "      <td>0</td>\n",
       "      <td>0</td>\n",
       "      <td>0</td>\n",
       "      <td>0.0</td>\n",
       "    </tr>\n",
       "    <tr>\n",
       "      <th>5</th>\n",
       "      <td>0</td>\n",
       "      <td>0.907239</td>\n",
       "      <td>49</td>\n",
       "      <td>1</td>\n",
       "      <td>0.024926</td>\n",
       "      <td>63588.0</td>\n",
       "      <td>7</td>\n",
       "      <td>0</td>\n",
       "      <td>1</td>\n",
       "      <td>0</td>\n",
       "      <td>0.0</td>\n",
       "    </tr>\n",
       "  </tbody>\n",
       "</table>\n",
       "</div>"
      ],
      "text/plain": [
       "   SeriousDlqin2yrs  RevolvingUtilizationOfUnsecuredLines  age  \\\n",
       "1                 1                              0.766127   45   \n",
       "2                 0                              0.957151   40   \n",
       "3                 0                              0.658180   38   \n",
       "4                 0                              0.233810   30   \n",
       "5                 0                              0.907239   49   \n",
       "\n",
       "   NumberOfTime30-59DaysPastDueNotWorse  DebtRatio  MonthlyIncome  \\\n",
       "1                                     2   0.802982         9120.0   \n",
       "2                                     0   0.121876         2600.0   \n",
       "3                                     1   0.085113         3042.0   \n",
       "4                                     0   0.036050         3300.0   \n",
       "5                                     1   0.024926        63588.0   \n",
       "\n",
       "   NumberOfOpenCreditLinesAndLoans  NumberOfTimes90DaysLate  \\\n",
       "1                               13                        0   \n",
       "2                                4                        0   \n",
       "3                                2                        1   \n",
       "4                                5                        0   \n",
       "5                                7                        0   \n",
       "\n",
       "   NumberRealEstateLoansOrLines  NumberOfTime60-89DaysPastDueNotWorse  \\\n",
       "1                             6                                     0   \n",
       "2                             0                                     0   \n",
       "3                             0                                     0   \n",
       "4                             0                                     0   \n",
       "5                             1                                     0   \n",
       "\n",
       "   NumberOfDependents  \n",
       "1                 2.0  \n",
       "2                 1.0  \n",
       "3                 0.0  \n",
       "4                 0.0  \n",
       "5                 0.0  "
      ]
     },
     "execution_count": 1,
     "metadata": {},
     "output_type": "execute_result"
    }
   ],
   "source": [
    "import time\n",
    "import numpy as np\n",
    "import pandas as pd\n",
    "import matplotlib.pyplot as plt\n",
    "from sklearn import metrics\n",
    "from sklearn.model_selection import KFold\n",
    "from sklearn.metrics import roc_auc_score\n",
    "\n",
    "params = {'figure.subplot.left': 0.07,\n",
    "          'figure.figsize': (10, 10),\n",
    "          'figure.subplot.right': 0.95,\n",
    "          'figure.subplot.bottom': 0.07,\n",
    "          'figure.subplot.top': 0.95}\n",
    "plt.rcParams.update(params)\n",
    "\n",
    "df = pd.read_csv('./data/cs-training.csv', sep=',')\n",
    "df = df.dropna()\n",
    "X = df.as_matrix(columns=df.columns[1:])\n",
    "y = df.as_matrix(columns=df.columns[:1])\n",
    "y = y.reshape(y.shape[0])\n",
    "df.head()"
   ]
  },
  {
   "cell_type": "code",
   "execution_count": 2,
   "metadata": {
    "collapsed": true,
    "deletable": true,
    "editable": true
   },
   "outputs": [],
   "source": [
    "class LinearRegression():\n",
    "    def __init__(self):\n",
    "        self.epoch = 0\n",
    "        self._fitted = False\n",
    "        self.loss_history = []\n",
    "        self._delta_W = float(\"inf\")\n",
    "        \n",
    "    def _norm_and_add(self, X):\n",
    "        Xn = (X - X.min()) / X.ptp(0)\n",
    "        X1 = np.c_[np.ones((Xn.shape[0])), Xn]\n",
    "        return X1\n",
    "\n",
    "    def fit(self, X, y, alpha=0.1, d_alp=0.97, eps=1e-8):\n",
    "        X1 = self._norm_and_add(X)\n",
    "        if not self._fitted:\n",
    "            self.W = np.random.uniform(size=(X1.shape[1], ))\n",
    "            self._fitted = True\n",
    "        while 1:\n",
    "            self._delta_W = np.linalg.norm(self.W)\n",
    "            preds = X1.dot(self.W)\n",
    "            error = preds - y\n",
    "            gradient = X1.T.dot(error) / X1.shape[0]\n",
    "            self.W += - alpha * gradient\n",
    "            alpha *= d_alp\n",
    "            self.epoch += 1\n",
    "            self.loss_history.append(np.sum(error) / X1.shape[0])\n",
    "            if abs(self._delta_W - np.linalg.norm(self.W)) < eps:\n",
    "                break\n",
    "\n",
    "    def predict(self, X):\n",
    "        X1 = self._norm_and_add(X)\n",
    "        return X1.dot(self.W)\n",
    "\n",
    "    def fit_predict(self, X, y, X_pred):\n",
    "        self.fit(X, y)\n",
    "        self.predict(X_pred)"
   ]
  },
  {
   "cell_type": "code",
   "execution_count": 3,
   "metadata": {
    "collapsed": true,
    "deletable": true,
    "editable": true
   },
   "outputs": [],
   "source": [
    "class LogisticRegression():\n",
    "    def __init__(self):\n",
    "        self.loss_history = []\n",
    "        self._fitted = False\n",
    "        self._delta_W = float(\"inf\")\n",
    "        self.epoch = 0\n",
    "\n",
    "    def _norm_and_add(self, X):\n",
    "        Xn = (X - X.min()) / X.ptp(0)\n",
    "        X1 = np.c_[np.ones((Xn.shape[0])), Xn]\n",
    "        return X1\n",
    "    \n",
    "    def _sigmoid_activation(self, x):\n",
    "        return 1.0 / (1 + np.exp(-x))\n",
    "\n",
    "    def fit(self, X, y, alpha=0.1, d_alp=0.97, eps=1e-8):\n",
    "        X1 = self._norm_and_add(X)\n",
    "        if not self._fitted:\n",
    "            self.W = np.random.uniform(size=(X1.shape[1], ))\n",
    "            self._fitted = True\n",
    "        while 1:\n",
    "            self._delta_W = np.linalg.norm(self.W)\n",
    "            preds = self._sigmoid_activation(X1.dot(self.W))\n",
    "            error = preds - y\n",
    "            gradient = X1.T.dot(error) / X1.shape[0]\n",
    "            self.W += - alpha * gradient\n",
    "            alpha *= d_alp\n",
    "            self.epoch += 1\n",
    "            self.loss_history.append(np.sum(error) / X1.shape[0])\n",
    "            if abs(self._delta_W - np.linalg.norm(self.W)) < eps:\n",
    "                break\n",
    "\n",
    "    def predict(self, X):\n",
    "        X1 = self._norm_and_add(X)\n",
    "        return self._sigmoid_activation(X1.dot(self.W))\n",
    "\n",
    "    def fit_predict(self, X, y, X_pred):\n",
    "        self.fit(X, y)\n",
    "        self.predict(X_pred)"
   ]
  },
  {
   "cell_type": "code",
   "execution_count": 4,
   "metadata": {
    "collapsed": false,
    "deletable": true,
    "editable": true
   },
   "outputs": [],
   "source": [
    "gkf = KFold(n_splits=5, shuffle=False)"
   ]
  },
  {
   "cell_type": "code",
   "execution_count": 5,
   "metadata": {
    "collapsed": false,
    "deletable": true,
    "editable": true
   },
   "outputs": [
    {
     "name": "stdout",
     "output_type": "stream",
     "text": [
      "0.631136824384\n",
      "2.951sec\n",
      "----------------------------------\n",
      "0.62144544229\n",
      "0.100sec\n",
      "----------------------------------\n",
      "0.618578906274\n",
      "0.440sec\n",
      "----------------------------------\n",
      "0.62559394555\n",
      "0.351sec\n",
      "----------------------------------\n",
      "0.636823278153\n",
      "0.063sec\n",
      "----------------------------------\n"
     ]
    }
   ],
   "source": [
    "log = LogisticRegression()\n",
    "for train, test in gkf.split(X, y):\n",
    "    t1 = time.time()\n",
    "    X_train, y_train = X[train], y[train]\n",
    "    X_test, y_test = X[test], y[test]\n",
    "\n",
    "    log.fit(X_train, y_train, alpha=0.05, d_alp=1, eps=1e-4)\n",
    "    print(roc_auc_score(y_score=log.predict(X_test), y_true=y_test))\n",
    "    print(\"%.3fsec\" % (time.time() - t1))\n",
    "    print(\"----------------------------------\")"
   ]
  },
  {
   "cell_type": "code",
   "execution_count": 7,
   "metadata": {
    "collapsed": false,
    "deletable": true,
    "editable": true
   },
   "outputs": [
    {
     "data": {
      "image/png": "[encoded data removed]",
      "text/plain": [
       "<matplotlib.figure.Figure at 0x7febc591ada0>"
      ]
     },
     "metadata": {},
     "output_type": "display_data"
    }
   ],
   "source": [
    "fpr, tpr, _ = metrics.roc_curve(y_score=log.predict(X_test), y_true=y_test)\n",
    "\n",
    "plt.xlim(0, 1.1)\n",
    "plt.ylim(0, 1.1)\n",
    "plt.grid(True)\n",
    "plt.xlabel('FPR')\n",
    "plt.ylabel('TPR')\n",
    "plt.title('ROC-curve')\n",
    "plt.plot(fpr, tpr)\n",
    "plt.show()"
   ]
  },
  {
   "cell_type": "code",
   "execution_count": 8,
   "metadata": {
    "collapsed": false,
    "deletable": true,
    "editable": true
   },
   "outputs": [
    {
     "name": "stdout",
     "output_type": "stream",
     "text": [
      "0.589916716718\n",
      "1.364sec\n",
      "----------------------------------\n",
      "0.601629404521\n",
      "1.097sec\n",
      "----------------------------------\n",
      "0.585671265785\n",
      "1.194sec\n",
      "----------------------------------\n",
      "0.600101600451\n",
      "1.110sec\n",
      "----------------------------------\n",
      "0.606174411185\n",
      "1.138sec\n",
      "----------------------------------\n"
     ]
    }
   ],
   "source": [
    "lin = LinearRegression()\n",
    "for train, test in gkf.split(X, y):\n",
    "    t1 = time.time()\n",
    "    X_train, y_train = X[train], y[train]\n",
    "    X_test, y_test = X[test], y[test]\n",
    "\n",
    "    lin.fit(X_train, y_train, d_alp=0.99, eps=1e-12)\n",
    "    print(roc_auc_score(y_score=lin.predict(X_test), y_true=y_test))\n",
    "    print(\"%.3fsec\" % (time.time() - t1))\n",
    "    print(\"----------------------------------\")"
   ]
  },
  {
   "cell_type": "code",
   "execution_count": 9,
   "metadata": {
    "collapsed": false,
    "deletable": true,
    "editable": true
   },
   "outputs": [
    {
     "data": {
      "image/png": "[encoded data removed]",
      "text/plain": [
       "<matplotlib.figure.Figure at 0x7febc4a86e80>"
      ]
     },
     "metadata": {},
     "output_type": "display_data"
    }
   ],
   "source": [
    "fpr, tpr, _ = metrics.roc_curve(y_score=lin.predict(X_test), y_true=y_test)\n",
    "\n",
    "plt.xlim(0, 1.1)\n",
    "plt.ylim(0, 1.1)\n",
    "plt.grid(True)\n",
    "plt.xlabel('FPR')\n",
    "plt.ylabel('TPR')\n",
    "plt.title('ROC-curve')\n",
    "plt.plot(fpr, tpr)\n",
    "plt.show()"
   ]
  }
 ],
 "metadata": {
  "kernelspec": {
   "display_name": "Python 3",
   "language": "python",
   "name": "python3"
  },
  "language_info": {
   "codemirror_mode": {
    "name": "ipython",
    "version": 3
   },
   "file_extension": ".py",
   "mimetype": "text/x-python",
   "name": "python",
   "nbconvert_exporter": "python",
   "pygments_lexer": "ipython3",
   "version": "3.5.2"
  }
 },
 "nbformat": 4,
 "nbformat_minor": 2
}
