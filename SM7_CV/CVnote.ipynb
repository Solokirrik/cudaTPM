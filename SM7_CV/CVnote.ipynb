{
 "cells": [
  {
   "cell_type": "code",
   "execution_count": 1,
   "metadata": {
    "collapsed": true
   },
   "outputs": [],
   "source": [
    "import numpy as np\n",
    "import cv2\n",
    "import argparse\n",
    "\n",
    "CASCADE = \"./haar-hand.xml\""
   ]
  },
  {
   "cell_type": "code",
   "execution_count": 10,
   "metadata": {
    "collapsed": true
   },
   "outputs": [],
   "source": [
    "def main():\n",
    "#     parser = argparse.ArgumentParser()\n",
    "#     parser.add_argument('--in_video', type=str, help='input video path', default='Test2.avi')\n",
    "#     parser.add_argument('--in_cascade', type=str, help='input cascade path', default=CASCADE)\n",
    "\n",
    "#     args = parser.parse_args()\n",
    "    cap = cv2.VideoCapture('Test2.avi')\n",
    "    haar_cascade = cv2.CascadeClassifier(CASCADE)\n",
    "\n",
    "    while(cap.isOpened()):\n",
    "        ret, frame = cap.read()\n",
    "\n",
    "        gray = cv2.cvtColor(frame, cv2.COLOR_BGR2GRAY)\n",
    "        detects = haar_cascade.detectMultiScale(gray, scaleFactor=1.2, minNeighbors=3)\n",
    "        for (x, y, w, h) in detects:\n",
    "            cv2.rectangle(gray, (x, y), (x + w, y + h), (255, 0, 0), 2)\n",
    "\n",
    "        cv2.imshow('frame',gray)\n",
    "#         if cv2.waitKey(1) & 0xFF == ord('q'):\n",
    "#             break\n",
    "\n",
    "    cap.release()\n",
    "    cv2.destroyAllWindows()"
   ]
  },
  {
   "cell_type": "code",
   "execution_count": 11,
   "metadata": {},
   "outputs": [],
   "source": [
    "if __name__ == \"__main__\":\n",
    "    main()"
   ]
  }
 ],
 "metadata": {
  "kernelspec": {
   "display_name": "Python 3",
   "language": "python",
   "name": "python3"
  },
  "language_info": {
   "codemirror_mode": {
    "name": "ipython",
    "version": 3
   },
   "file_extension": ".py",
   "mimetype": "text/x-python",
   "name": "python",
   "nbconvert_exporter": "python",
   "pygments_lexer": "ipython3",
   "version": "3.6.0"
  }
 },
 "nbformat": 4,
 "nbformat_minor": 2
}
